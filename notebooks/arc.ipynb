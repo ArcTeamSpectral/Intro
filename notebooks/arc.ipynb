{
 "cells": [
  {
   "cell_type": "code",
   "execution_count": 1,
   "metadata": {},
   "outputs": [
    {
     "name": "stdout",
     "output_type": "stream",
     "text": [
      "LICENSE  README.md  apps  data\n"
     ]
    }
   ],
   "source": [
    "!ls /zenith/ARC-AGI"
   ]
  },
  {
   "cell_type": "code",
   "execution_count": 2,
   "metadata": {},
   "outputs": [
    {
     "name": "stdout",
     "output_type": "stream",
     "text": [
      "======================================== CPU Info ========================================\n",
      "Physical cores: 8\n",
      "Total cores: 8\n",
      "Max Frequency: 0.00Mhz\n",
      "Min Frequency: 0.00Mhz\n",
      "Current Frequency: 2600.00Mhz\n",
      "CPU Usage Per Core:\n",
      "Core 0: 0.0%\n",
      "Core 1: 0.0%\n",
      "Core 2: 0.0%\n",
      "Core 3: 0.0%\n",
      "Core 4: 0.0%\n",
      "Core 5: 0.0%\n",
      "Core 6: 0.0%\n",
      "Core 7: 0.0%\n",
      "Total CPU Usage: 0.0%\n",
      "======================================== Memory Information ========================================\n",
      "Total: 906.32GB\n",
      "Available: 906.14GB\n",
      "Used: 153.53MB\n",
      "Percentage: 0.0%\n"
     ]
    }
   ],
   "source": [
    "import psutil\n",
    "import platform\n",
    "\n",
    "def get_size(bytes, suffix=\"B\"):\n",
    "    \"\"\"\n",
    "    Scale bytes to its proper format\n",
    "    e.g:\n",
    "        1253656 => '1.20MB'\n",
    "        1253656678 => '1.17GB'\n",
    "    \"\"\"\n",
    "    factor = 1024\n",
    "    for unit in [\"\", \"K\", \"M\", \"G\", \"T\", \"P\"]:\n",
    "        if bytes < factor:\n",
    "            return f\"{bytes:.2f}{unit}{suffix}\"\n",
    "        bytes /= factor\n",
    "\n",
    "# CPU information\n",
    "print(\"=\"*40, \"CPU Info\", \"=\"*40)\n",
    "print(\"Physical cores:\", psutil.cpu_count(logical=False))\n",
    "print(\"Total cores:\", psutil.cpu_count(logical=True))\n",
    "# CPU frequencies\n",
    "cpufreq = psutil.cpu_freq()\n",
    "print(f\"Max Frequency: {cpufreq.max:.2f}Mhz\")\n",
    "print(f\"Min Frequency: {cpufreq.min:.2f}Mhz\")\n",
    "print(f\"Current Frequency: {cpufreq.current:.2f}Mhz\")\n",
    "# CPU usage\n",
    "print(\"CPU Usage Per Core:\")\n",
    "for i, percentage in enumerate(psutil.cpu_percent(percpu=True, interval=1)):\n",
    "    print(f\"Core {i}: {percentage}%\")\n",
    "print(f\"Total CPU Usage: {psutil.cpu_percent()}%\")\n",
    "\n",
    "# Memory Information\n",
    "print(\"=\"*40, \"Memory Information\", \"=\"*40)\n",
    "# get the memory details\n",
    "svmem = psutil.virtual_memory()\n",
    "print(f\"Total: {get_size(svmem.total)}\")\n",
    "print(f\"Available: {get_size(svmem.available)}\")\n",
    "print(f\"Used: {get_size(svmem.used)}\")\n",
    "print(f\"Percentage: {svmem.percent}%\")"
   ]
  },
  {
   "cell_type": "code",
   "execution_count": 3,
   "metadata": {},
   "outputs": [
    {
     "name": "stderr",
     "output_type": "stream",
     "text": [
      "Reading ARC data: 100%|██████████| 50/50 [00:06<00:00,  7.54file/s]"
     ]
    },
    {
     "name": "stdout",
     "output_type": "stream",
     "text": [
      "Number of tasks loaded: 50\n"
     ]
    },
    {
     "name": "stderr",
     "output_type": "stream",
     "text": [
      "\n"
     ]
    }
   ],
   "source": [
    "import json\n",
    "import os\n",
    "from typing import Dict, List, Any\n",
    "from tqdm import tqdm\n",
    "\n",
    "def read_arc_data(directory: str = 'ARC-AGI/data/evaluation', n: int = 50) -> Dict[str, Dict[str, List[Dict[str, Any]]]]:\n",
    "    \"\"\"\n",
    "    Read ARC data from JSON files in the specified directory, limited to the first n files.\n",
    "\n",
    "    Args:\n",
    "    directory (str): Path to the directory containing JSON files.\n",
    "    n (int): Number of files to read (default: 50).\n",
    "\n",
    "    Returns:\n",
    "    Dict[str, Dict[str, List[Dict[str, Any]]]]: A dictionary where keys are filenames\n",
    "    and values are the contents of each JSON file.\n",
    "    \"\"\"\n",
    "    arc_data = {}\n",
    "    \n",
    "    for filename in tqdm(os.listdir(directory)[:n], desc=\"Reading ARC data\", unit=\"file\"):\n",
    "        if filename.endswith('.json'):\n",
    "            file_path = os.path.join(directory, filename)\n",
    "            with open(file_path, 'r') as file:\n",
    "                arc_data[filename] = json.load(file)\n",
    "    \n",
    "    return arc_data\n",
    "\n",
    "# Example usage\n",
    "arc_dataset = read_arc_data()\n",
    "print(f\"Number of tasks loaded: {len(arc_dataset)}\")"
   ]
  },
  {
   "cell_type": "code",
   "execution_count": 25,
   "metadata": {},
   "outputs": [],
   "source": [
    "import random\n",
    "import plotly.graph_objects as go\n",
    "from plotly.subplots import make_subplots\n",
    "\n",
    "def original_arc_palette():\n",
    "    return [\n",
    "        \"#000000\", # 0 = black\n",
    "        \"#0074d9\", # 1 = blue\n",
    "        \"#ff4136\", # 2 = red\n",
    "        \"#2ecc40\", # 3 = green\n",
    "        \"#ffdc00\", # 4 = yellow\n",
    "        \"#aaaaaa\", # 5 = gray\n",
    "        \"#f012be\", # 6 = fuchsia\n",
    "        \"#ff851b\", # 7 = orange\n",
    "        \"#7fdbff\", # 8 = teal\n",
    "        \"#870c25\", # 9 = brown\n",
    "    ]\n",
    "import matplotlib.pyplot as plt\n",
    "import numpy as np\n",
    "\n",
    "def display_grid(grid):\n",
    "    plt.imshow(grid, cmap=plt.cm.colors.ListedColormap(original_arc_palette()), vmin=0, vmax=9)\n",
    "    plt.axis('off')\n",
    "\n",
    "def display_input_output(input_grid, output_grid):\n",
    "    # Calculate the size of the larger grid\n",
    "    max_size = max(len(input_grid), len(input_grid[0]), len(output_grid), len(output_grid[0]))\n",
    "    \n",
    "    # Calculate the figure size based on max_size and grid sizes\n",
    "    K = 0.5  # Adjust this value to change the overall size of the plot\n",
    "    input_width = len(input_grid[0]) * K\n",
    "    output_width = len(output_grid[0]) * K\n",
    "    total_width = input_width + output_width\n",
    "    height = max(len(input_grid), len(output_grid)) * K\n",
    "    \n",
    "    figsize = (total_width, height)\n",
    "    fig, (ax1, ax2) = plt.subplots(1, 2, figsize=figsize)\n",
    "    \n",
    "    ax1.set_title(\"Input\")\n",
    "    ax1.imshow(input_grid, cmap=plt.cm.colors.ListedColormap(original_arc_palette()), vmin=0, vmax=9)\n",
    "    ax1.axis('off')\n",
    "    \n",
    "    ax2.set_title(\"Output\")\n",
    "    ax2.imshow(output_grid, cmap=plt.cm.colors.ListedColormap(original_arc_palette()), vmin=0, vmax=9)\n",
    "    ax2.axis('off')\n",
    "    \n",
    "    # Adjust the axes to center the grids and maintain pixel size\n",
    "    ax1.set_xlim(-0.5, len(input_grid[0]) - 0.5)\n",
    "    ax1.set_ylim(len(input_grid) - 0.5, -0.5)\n",
    "    ax2.set_xlim(-0.5, len(output_grid[0]) - 0.5)\n",
    "    ax2.set_ylim(len(output_grid) - 0.5, -0.5)\n",
    "    \n",
    "    # Set the aspect of the axes to be equal\n",
    "    ax1.set_aspect('equal')\n",
    "    ax2.set_aspect('equal')\n",
    "    \n",
    "    # Adjust the position of the subplots\n",
    "    plt.subplots_adjust(left=0.05, right=0.95, wspace=0.1)\n",
    "    \n",
    "    plt.show()\n"
   ]
  },
  {
   "cell_type": "markdown",
   "metadata": {},
   "source": [
    "Great. we can access the ARC dataset.\n",
    "\n",
    "arc_dataset[json_file_name] = {\n",
    "  'train': [\n",
    "    {\n",
    "      'input': input_grid,\n",
    "      'output': output_grid\n",
    "    },\n",
    "    ...\n",
    "  ],\n",
    "  'test': [\n",
    "    {\n",
    "      'input': input_grid,\n",
    "      'output': output_grid\n",
    "    },\n",
    "    ...\n",
    "  ]\n",
    "}"
   ]
  },
  {
   "cell_type": "code",
   "execution_count": 30,
   "metadata": {},
   "outputs": [
    {
     "name": "stdout",
     "output_type": "stream",
     "text": [
      "Task: 137f0df0.json\n",
      "All training examples:\n"
     ]
    },
    {
     "data": {
      "image/png": "[encoded data removed]",
      "text/plain": [
       "<Figure size 1000x500 with 2 Axes>"
      ]
     },
     "metadata": {},
     "output_type": "display_data"
    },
    {
     "data": {
      "image/png": "[encoded data removed]",
      "text/plain": [
       "<Figure size 1000x500 with 2 Axes>"
      ]
     },
     "metadata": {},
     "output_type": "display_data"
    },
    {
     "data": {
      "image/png": "[encoded data removed]",
      "text/plain": [
       "<Figure size 1000x500 with 2 Axes>"
      ]
     },
     "metadata": {},
     "output_type": "display_data"
    },
    {
     "name": "stdout",
     "output_type": "stream",
     "text": [
      "All test examples:\n"
     ]
    },
    {
     "data": {
      "image/png": "[encoded data removed]",
      "text/plain": [
       "<Figure size 1000x500 with 2 Axes>"
      ]
     },
     "metadata": {},
     "output_type": "display_data"
    }
   ],
   "source": [
    "from dataclasses import dataclass\n",
    "from typing import List, Dict, Any\n",
    "\n",
    "@dataclass\n",
    "class Example:\n",
    "    input: List[List[int]]\n",
    "    output: List[List[int]]\n",
    "\n",
    "    def show(self):\n",
    "        display_input_output(self.input, self.output)\n",
    "\n",
    "@dataclass\n",
    "class Task:\n",
    "    name: str\n",
    "    train: List[Example]\n",
    "    test: List[Example]\n",
    "\n",
    "\n",
    "def get_random_task():\n",
    "  # Get a random item from the arc_dataset dictionary\n",
    "  random_task_id = random.choice(list(arc_dataset.keys()))\n",
    "  random_task = arc_dataset[random_task_id]\n",
    "  return Task(name=random_task_id, train=[Example(input=example['input'], output=example['output']) for example in random_task['train']], test=[Example(input=example['input'], output=example['output']) for example in random_task['test']])\n",
    "\n",
    "def display_arc_task(task: Task):\n",
    "  print(\"Task:\", task.name)\n",
    "\n",
    "  # Display all training examples side by side\n",
    "  print(\"All training examples:\")\n",
    "  for example in task.train:\n",
    "      example.show()\n",
    "  \n",
    "  # Display all test examples side by side\n",
    "  print(\"All test examples:\")\n",
    "  for example in task.test:\n",
    "      example.show()\n",
    "\n",
    "display_arc_task(get_random_task())"
   ]
  },
  {
   "cell_type": "markdown",
   "metadata": {},
   "source": [
    "## ARC RL\n",
    "\n",
    "There's a lot of interesting things that we can do with this dataset, even if we don't care about solving the ARC challenge.\n",
    "\n",
    "For example, we can train an agent to draw simple shapes. Given an input and output, the agent should learn to draw in the least instructions possible. This will make it learn abstractions like \"circle\" and \"square\" etc. \n",
    "\n",
    "For example, consider a function like \"draw five squares next to each other\". Language approximates this complexity -- a long and complicated instruction can only be described in a long string, but a simple instruction is describable in a short string.\n",
    "\n",
    "Now, why does it do that? \n",
    "This seems to be an emergent property of language - one that's very useful in real life.\n",
    "The challenge is that we don't want to say the instructions in language - we want to say it in some form that translates well to actions. For example, if the executor were a paint program, we'd say things like \"PAINT 0 10 RED SQUARE\" instead of \"draw a square with a red border\". If the executor were a neural network, we'd perhaps pass some sequence of embeddings that represent the actions.\n",
    "\n",
    "So in effect, we're trying to learn a language that can describe actions, which we can then use to control an executor.\n",
    "\n",
    "This reminds me of VQ-VAE, or any of these quantized models. Instead of learning an end-to-end function to have inputs -> outputs, we're splitting the problem into two parts: the Abstractor and the Generator.\n",
    "\n",
    "\n",
    "Let's consider our toy task of drawing shapes.\n",
    "\n",
    "Abstractor - The goal of the abstractor is to come up with a sequence of continuous instructions to \"control\" the Generator. The Abstractor is rewarded by using the Generator well, ie, if the output matches the desired output. The Abstractor is the only agent that sees the raw input and raw output.\n",
    "- One way of thinking about this is that the Abstractor is trying to form an understanding of what's there, and what to do. It's the reasoning agent, the learning agent, and more. But for all its strengths, it's limited by the Generator.\n",
    "\n",
    "Generator - The goal of the generator is to take in a sequence of continuous instructions, and produce an output. In essence, this is the decoder part of a VAE. It can take continuous inputs, and produce shapes. \n",
    "\n",
    "An interseting way of looking at this bottleneck is if we have causal masking.\n",
    "\n",
    "The Abstractor gets to see the input, and the currently generated tokens.\n",
    "\n",
    "\n"
   ]
  },
  {
   "cell_type": "code",
   "execution_count": 1,
   "metadata": {},
   "outputs": [
    {
     "name": "stdout",
     "output_type": "stream",
     "text": [
      "ARC-AGI  catcus.png  intro.ipynb\n"
     ]
    }
   ],
   "source": [
    "!ls"
   ]
  },
  {
   "cell_type": "code",
   "execution_count": null,
   "metadata": {},
   "outputs": [],
   "source": []
  }
 ],
 "metadata": {
  "kernelspec": {
   "display_name": "Python 3 (ipykernel)",
   "language": "python",
   "name": "python3"
  },
  "language_info": {
   "codemirror_mode": {
    "name": "ipython",
    "version": 3
   },
   "file_extension": ".py",
   "mimetype": "text/x-python",
   "name": "python",
   "nbconvert_exporter": "python",
   "pygments_lexer": "ipython3",
   "version": "3.10.13"
  }
 },
 "nbformat": 4,
 "nbformat_minor": 2
}
