{
 "cells": [
  {
   "cell_type": "code",
   "execution_count": 7,
   "metadata": {},
   "outputs": [
    {
     "name": "stdout",
     "output_type": "stream",
     "text": [
      "LICENSE  README.md  apps  data\n"
     ]
    }
   ],
   "source": [
    "!ls /zenith/ARC-AGI"
   ]
  },
  {
   "cell_type": "code",
   "execution_count": 5,
   "metadata": {},
   "outputs": [
    {
     "name": "stderr",
     "output_type": "stream",
     "text": [
      "2024-09-30 02:59:42.536438: E external/local_xla/xla/stream_executor/cuda/cuda_fft.cc:485] Unable to register cuFFT factory: Attempting to register factory for plugin cuFFT when one has already been registered\n",
      "2024-09-30 02:59:42.727215: E external/local_xla/xla/stream_executor/cuda/cuda_dnn.cc:8454] Unable to register cuDNN factory: Attempting to register factory for plugin cuDNN when one has already been registered\n",
      "2024-09-30 02:59:42.775767: E external/local_xla/xla/stream_executor/cuda/cuda_blas.cc:1452] Unable to register cuBLAS factory: Attempting to register factory for plugin cuBLAS when one has already been registered\n",
      "2024-09-30 02:59:43.462404: I tensorflow/core/platform/cpu_feature_guard.cc:210] This TensorFlow binary is optimized to use available CPU instructions in performance-critical operations.\n",
      "To enable the following instructions: AVX2 AVX512F FMA, in other operations, rebuild TensorFlow with the appropriate compiler flags.\n",
      "2024-09-30 02:59:48.021413: W tensorflow/compiler/tf2tensorrt/utils/py_utils.cc:38] TF-TRT Warning: Could not find TensorRT\n",
      "/usr/local/lib/python3.10/site-packages/transformers/tokenization_utils_base.py:1617: FutureWarning: `clean_up_tokenization_spaces` was not set. It will be set to `True` by default. This behavior will be deprecated in transformers v4.45, and will be then set to `False` by default. For more details check this issue: https://github.com/huggingface/transformers/issues/31884\n",
      "  warnings.warn(\n"
     ]
    },
    {
     "name": "stdout",
     "output_type": "stream",
     "text": [
      "torch.Size([1, 512])\n"
     ]
    }
   ],
   "source": [
    "import torch\n",
    "from PIL import Image\n",
    "from transformers import CLIPProcessor, CLIPModel\n",
    "\n",
    "class CLIP:\n",
    "    def __init__(self):\n",
    "        # Load the CLIP model and processor\n",
    "        self.model = CLIPModel.from_pretrained(\"openai/clip-vit-base-patch32\")\n",
    "        self.processor = CLIPProcessor.from_pretrained(\"openai/clip-vit-base-patch32\")\n",
    "\n",
    "    def encode_image(self, image_path):\n",
    "    # Load and preprocess the image\n",
    "        image = Image.open(image_path)\n",
    "        inputs = self.processor(images=image, return_tensors=\"pt\")\n",
    "\n",
    "        # Generate the image features\n",
    "        with torch.no_grad():\n",
    "            image_features = self.model.get_image_features(**inputs)\n",
    "\n",
    "        return image_features\n",
    "\n",
    "    def encode_text(self, text):\n",
    "        inputs = self.processor(text=text, return_tensors=\"pt\")\n",
    "        with torch.no_grad():\n",
    "            text_features = self.model.get_text_features(**inputs)\n",
    "        return text_features\n",
    "\n",
    "myclip = CLIP()\n",
    "image_path = \"/zenith/puppy.jpg\"\n",
    "features = myclip.encode_image(image_path)\n",
    "print(features.shape)  # Should be [1, 512] for the base model"
   ]
  },
  {
   "cell_type": "code",
   "execution_count": 1,
   "metadata": {},
   "outputs": [
    {
     "name": "stdout",
     "output_type": "stream",
     "text": [
      "Mon Sep 30 02:56:20 2024       \n",
      "+-----------------------------------------------------------------------------------------+\n",
      "| NVIDIA-SMI 550.54.15              Driver Version: 550.54.15      CUDA Version: 12.4     |\n",
      "|-----------------------------------------+------------------------+----------------------+\n",
      "| GPU  Name                 Persistence-M | Bus-Id          Disp.A | Volatile Uncorr. ECC |\n",
      "| Fan  Temp   Perf          Pwr:Usage/Cap |           Memory-Usage | GPU-Util  Compute M. |\n",
      "|                                         |                        |               MIG M. |\n",
      "|=========================================+========================+======================|\n",
      "|   0  Tesla T4                       On  |   00000000:00:05.0 Off |                    0 |\n",
      "| N/A   40C    P8             12W /   70W |       0MiB /  15360MiB |      0%      Default |\n",
      "|                                         |                        |                  N/A |\n",
      "+-----------------------------------------+------------------------+----------------------+\n",
      "                                                                                         \n",
      "+-----------------------------------------------------------------------------------------+\n",
      "| Processes:                                                                              |\n",
      "|  GPU   GI   CI        PID   Type   Process name                              GPU Memory |\n",
      "|        ID   ID                                                               Usage      |\n",
      "|=========================================================================================|\n",
      "|  No running processes found                                                             |\n",
      "+-----------------------------------------------------------------------------------------+\n"
     ]
    }
   ],
   "source": [
    "!nvidia-smi"
   ]
  },
  {
   "cell_type": "code",
   "execution_count": 2,
   "metadata": {},
   "outputs": [
    {
     "name": "stdout",
     "output_type": "stream",
     "text": [
      "ARC-AGI  catcus.png  intro.ipynb\n"
     ]
    }
   ],
   "source": [
    "!ls /zenith/notebooks"
   ]
  },
  {
   "cell_type": "code",
   "execution_count": 4,
   "metadata": {},
   "outputs": [
    {
     "name": "stdout",
     "output_type": "stream",
     "text": [
      "Running on GPU: Tesla T4\n",
      "Matrix size: 1000x1000\n",
      "Average time: 0.0008 seconds\n",
      "Performance: 2.55 TFLOPS\n",
      "\n",
      "Matrix size: 2000x2000\n",
      "Average time: 0.0059 seconds\n",
      "Performance: 2.73 TFLOPS\n",
      "\n",
      "Matrix size: 4000x4000\n",
      "Average time: 0.0306 seconds\n",
      "Performance: 4.18 TFLOPS\n",
      "\n",
      "Matrix size: 8000x8000\n",
      "Average time: 0.2540 seconds\n",
      "Performance: 4.03 TFLOPS\n",
      "\n",
      "Matrix size: 16000x16000\n",
      "Average time: 1.8873 seconds\n",
      "Performance: 4.34 TFLOPS\n",
      "\n"
     ]
    }
   ],
   "source": [
    "import torch\n",
    "import time\n",
    "\n",
    "def benchmark_gpu():\n",
    "    # Check if CUDA is available\n",
    "    if not torch.cuda.is_available():\n",
    "        print(\"CUDA is not available. Running on CPU.\")\n",
    "        return\n",
    "\n",
    "    # Get the current device\n",
    "    device = torch.cuda.current_device()\n",
    "    print(f\"Running on GPU: {torch.cuda.get_device_name(device)}\")\n",
    "\n",
    "    # Define matrix sizes for benchmarking\n",
    "    sizes = [1000, 2000, 4000, 8000, 16000]\n",
    "\n",
    "    for size in sizes:\n",
    "        # Create random matrices\n",
    "        a = torch.randn(size, size, device=device)\n",
    "        b = torch.randn(size, size, device=device)\n",
    "\n",
    "        # Warm-up run\n",
    "        torch.matmul(a, b)\n",
    "        torch.cuda.synchronize()\n",
    "\n",
    "        # Benchmark\n",
    "        start_time = time.time()\n",
    "        for _ in range(10):\n",
    "            torch.matmul(a, b)\n",
    "        torch.cuda.synchronize()\n",
    "        end_time = time.time()\n",
    "\n",
    "        # Calculate average time and FLOPS\n",
    "        avg_time = (end_time - start_time) / 10\n",
    "        flops = 2 * size**3 / avg_time  # 2n^3 FLOPs for matrix multiplication\n",
    "        tflops = flops / 1e12\n",
    "\n",
    "        print(f\"Matrix size: {size}x{size}\")\n",
    "        print(f\"Average time: {avg_time:.4f} seconds\")\n",
    "        print(f\"Performance: {tflops:.2f} TFLOPS\")\n",
    "        print()\n",
    "\n",
    "# Run the benchmark\n",
    "benchmark_gpu()\n"
   ]
  },
  {
   "cell_type": "code",
   "execution_count": null,
   "metadata": {},
   "outputs": [],
   "source": []
  }
 ],
 "metadata": {
  "kernelspec": {
   "display_name": "Python 3 (ipykernel)",
   "language": "python",
   "name": "python3"
  }
 },
 "nbformat": 4,
 "nbformat_minor": 2
}
